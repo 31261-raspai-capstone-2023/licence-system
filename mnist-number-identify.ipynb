{
 "cells": [
  {
   "cell_type": "code",
   "execution_count": 1,
   "metadata": {},
   "outputs": [],
   "source": [
    "import torch\n",
    "import torchvision\n",
    "from torchvision import transforms, datasets"
   ]
  },
  {
   "cell_type": "code",
   "execution_count": 2,
   "metadata": {},
   "outputs": [],
   "source": [
    "# data used to teach\n",
    "train_data = datasets.MNIST(\"./localTrainingData/\", train=True, download=True, transform=transforms.Compose([\n",
    "    # things we want to apply to the data goes in here\n",
    "    transforms.ToTensor()\n",
    "]))\n",
    "\n",
    "# data the model hasn't seen, used to test\n",
    "test_data = datasets.MNIST(\"./localTestingData/\", train=False, download=True, transform=transforms.Compose([\n",
    "    # things we want to apply to the data goes in here\n",
    "    transforms.ToTensor()\n",
    "]))"
   ]
  },
  {
   "cell_type": "code",
   "execution_count": 3,
   "metadata": {},
   "outputs": [],
   "source": [
    "# batch size = how many we want to pass into our model at a time, generally use 8 - 64 - the larger, the quicker we can train, but not too big or accuracy might be low\n",
    "# we have to batch because data is so big we can't fit it all in at once\n",
    "train_set = torch.utils.data.DataLoader(train_data, batch_size=10, shuffle=True)\n",
    "test_set = torch.utils.data.DataLoader(test_data, batch_size=10, shuffle=False)"
   ]
  },
  {
   "cell_type": "code",
   "execution_count": null,
   "metadata": {},
   "outputs": [],
   "source": [
    "for data in train_set:\n",
    "    print(data)\n",
    "    break"
   ]
  },
  {
   "cell_type": "code",
   "execution_count": null,
   "metadata": {},
   "outputs": [],
   "source": [
    "x,y = data[0][0], data[1][0]\n",
    "\n",
    "print(y)"
   ]
  },
  {
   "cell_type": "code",
   "execution_count": null,
   "metadata": {},
   "outputs": [],
   "source": [
    "import matplotlib.pyplot as plt\n",
    "\n",
    "plt.imshow(data[0][0].view(28, 28))\n",
    "plt.show()"
   ]
  },
  {
   "cell_type": "code",
   "execution_count": null,
   "metadata": {},
   "outputs": [],
   "source": [
    "# if model can find shorter path to decreasing loss, it'll take that path\n",
    "# as optimiser is decreasing loss, it doesn't know how low it can get, so it'll try to lower loss as quickly and easily as possible\n",
    "# if majority of data is 3 or 7, it will start to always predict 3, and will be stuck there forever \n",
    "# this is why we need to balance data\n",
    "\n",
    "total = 0\n",
    "counter_dict = {0:0,1:0,2:0,3:0,4:0,5:0,6:0,7:0,8:0,9:0}\n",
    "\n",
    "for data in train_set:\n",
    "    Xs, ys = data\n",
    "    for y in ys:\n",
    "        counter_dict[int(y)] += 1\n",
    "        total += 1\n",
    "\n",
    "\n",
    "print(counter_dict)\n",
    "\n",
    "for i in counter_dict:\n",
    "    print(f\"{i}: {counter_dict[i] / total * 100}%\")"
   ]
  },
  {
   "cell_type": "code",
   "execution_count": 8,
   "metadata": {},
   "outputs": [],
   "source": [
    "import torch.nn as nn\n",
    "import torch.nn.functional as F"
   ]
  },
  {
   "cell_type": "code",
   "execution_count": null,
   "metadata": {},
   "outputs": [],
   "source": [
    "class Net(nn.Module):\n",
    "    def __init__(self):\n",
    "        super().__init__()\n",
    "\n",
    "        # Define layers\n",
    "        # fc1 = fully connected layer 1\n",
    "        self.fc1 = nn.Linear(784, 64)\n",
    "        # where 784 = 28 * 28 because our images are 28x28, can't pass the image, we pass the flattened image or just a flat line of pixels\n",
    "        # where 64 = can be whatever we want\n",
    "        # where nn.Linear = just means fully connected\n",
    "        self.fc2 = nn.Linear(64, 64)\n",
    "        # because fc1 (first layer) outputs 64, second layer MUST take in 64\n",
    "        # fc2 (second layer) can output whatever we want again\n",
    "        self.fc3 = nn.Linear(64, 64)\n",
    "        self.fc4 = nn.Linear(64, 10)\n",
    "        # output 10 = because number of classes in our numbers is 10 (0,1,2,...,9)\n",
    "\n",
    "    # simple neural network also called FeedForward network, since data passes from one side to the other, nothing else\n",
    "    # this method defines how data flows through our network\n",
    "    def forward(self, x):\n",
    "        #where x is input\n",
    "\n",
    "        # we just pass x (input) through our layers\n",
    "        x = F.relu(self.fc1(x))\n",
    "        # where relu = Rectified Linear - this is our activation function\n",
    "        # activation function = whether or not neuron is firing\n",
    "\n",
    "        x = F.relu(self.fc2(x))\n",
    "        x = F.relu(self.fc3(x))\n",
    "        x = self.fc4(x)\n",
    "        # activation function is being run on the output of each layer. Because layer 4 outputs 10, we want to return probability that a number is what the neural network thinks it is\n",
    "\n",
    "        return F.log_softmax(x, dim=1)\n",
    "\n",
    "net = Net()\n",
    "print(net)"
   ]
  },
  {
   "cell_type": "code",
   "execution_count": null,
   "metadata": {},
   "outputs": [],
   "source": [
    "X = torch.rand((28,28))\n",
    "X = x.view(-1, 28 * 28)\n",
    "# where -1 = specifies this input will be of unknown shape\n",
    "# where 28 = width, height of image being input\n",
    "\n",
    "# this passes info into neural network\n",
    "output = net(X)\n",
    "\n",
    "output\n",
    "# outputs grad_fn = kinda like accuracy"
   ]
  },
  {
   "cell_type": "code",
   "execution_count": null,
   "metadata": {},
   "outputs": [],
   "source": [
    "# loss = how wrong model is\n",
    "# we want loss to decrease over time\n",
    "\n",
    "import torch.optim as optim\n",
    "\n",
    "optimizer = optim.Adam(net.parameters(), lr=0.001)\n",
    "# where net.parameters() = everything that is adjustable in our model\n",
    "# where lr = learning rate = size of increments to take when reducing loss\n",
    "# we can create decaying learning rate system to get to greater accuracy - which we should use in real world scenario\n",
    "\n",
    "EPOCHS = 3 #1 epoch = 1 full pass through our dataset\n",
    "\n",
    "for epoch in range(EPOCHS):\n",
    "    for data in train_set:\n",
    "        #data is batch of featuresets and labels\n",
    "        X, y = data\n",
    "        # where X = image\n",
    "        # where y = label\n",
    "        net.zero_grad()\n",
    "        # start at zero for our gradeints, gradients used in calculating loss\n",
    "        \n",
    "        output = net(X.view(-1, 28*28))\n",
    "        # once we have output, we can calculate how wrong we were (loss)\n",
    "\n",
    "        loss = F.nll_loss(output, y)\n",
    "        # if data is scalar value (like in this case) use nll loss, otherwise if data is a 1-hot-vector, use mean-squared-error\n",
    "\n",
    "        loss.backward()\n",
    "\n",
    "        optimizer.step()\n",
    "        # adjusts the weights for us\n",
    "\n",
    "    print(loss)"
   ]
  },
  {
   "cell_type": "code",
   "execution_count": null,
   "metadata": {},
   "outputs": [],
   "source": [
    "# Testing code:\n",
    "\n",
    "correct = 0\n",
    "total = 0\n",
    "\n",
    "with torch.no_grad():\n",
    "    for data in train_set:\n",
    "        X, y = data\n",
    "        output = net(X.view(-1, 28*28))\n",
    "\n",
    "        for idx, i in enumerate(output):\n",
    "            if torch.argmax(i) == y[idx]:\n",
    "                correct += 1\n",
    "            total += 1\n",
    "\n",
    "print(f\"Accuracy: {round(correct / total, 3) * 100}%\")\n",
    "# produces very high accuracy, in the real world, this is likely not possible so be weary of high accuracy"
   ]
  },
  {
   "cell_type": "code",
   "execution_count": null,
   "metadata": {},
   "outputs": [],
   "source": [
    "index = 6\n",
    "plt.imshow(X[index].view(28,28))\n",
    "plt.show()\n",
    "print(torch.argmax(net(X[index].view(-1, 28*28))[0]))"
   ]
  }
 ],
 "metadata": {
  "kernelspec": {
   "display_name": ".venv",
   "language": "python",
   "name": "python3"
  },
  "language_info": {
   "codemirror_mode": {
    "name": "ipython",
    "version": 3
   },
   "file_extension": ".py",
   "mimetype": "text/x-python",
   "name": "python",
   "nbconvert_exporter": "python",
   "pygments_lexer": "ipython3",
   "version": "3.11.5"
  }
 },
 "nbformat": 4,
 "nbformat_minor": 2
}
