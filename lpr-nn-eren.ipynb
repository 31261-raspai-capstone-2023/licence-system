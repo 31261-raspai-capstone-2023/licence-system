{
 "cells": [
  {
   "cell_type": "markdown",
   "metadata": {},
   "source": [
    "## Training Dataset Preprocessing"
   ]
  },
  {
   "cell_type": "code",
   "execution_count": 86,
   "metadata": {},
   "outputs": [
    {
     "name": "stderr",
     "output_type": "stream",
     "text": [
      "100%|██████████| 433/433 [00:09<00:00, 44.77it/s]\n"
     ]
    }
   ],
   "source": [
    "import os\n",
    "import cv2\n",
    "import torch\n",
    "import numpy as np\n",
    "from tqdm import tqdm\n",
    "import xml.etree.ElementTree as ET\n",
    "\n",
    "class LPR_Training_Dataset_Processed():\n",
    "    IMAGE_PATH = \"data/kaggle-dataset-433/train/images\"\n",
    "    ANNOTATION_PATH = \"data/kaggle-dataset-433/train/annotations\"\n",
    "    TARGET_IMAGE_SIZE = 224\n",
    "\n",
    "    training_data = []\n",
    "\n",
    "    def create_training_data(self):\n",
    "        self.img_list = os.listdir(self.IMAGE_PATH)\n",
    "        for img in tqdm(self.img_list):\n",
    "            img_path = os.path.join(self.IMAGE_PATH, img) #get image file path so we can load it with opencv\n",
    "            img_path = os.path.join(self.IMAGE_PATH, img) #get image file path so we can load it with opencv\n",
    "            annotation_path = os.path.join(self.ANNOTATION_PATH, img.replace('.png', '.xml')) # get required image annotations\n",
    "\n",
    "            img = cv2.imread(img_path, cv2.IMREAD_GRAYSCALE) # read image as grayscale\n",
    "            og_img_height, og_img_width = img.shape # store original shape of image so we can resize boudning box later\n",
    "\n",
    "            img = cv2.resize(img, (self.TARGET_IMAGE_SIZE, self.TARGET_IMAGE_SIZE)) # resize image so they're all the same width and height\n",
    "\n",
    "            # Parse the XML annotation file to extract bounding box coordinates\n",
    "            root = ET.parse(annotation_path).getroot()\n",
    "            \n",
    "            # Iterate through the XML and extract bounding box coordinates\n",
    "            for obj in root.findall('.//object'):\n",
    "                bndbox = obj.find('bndbox')\n",
    "                xmin = int(bndbox.find('xmin').text)\n",
    "                ymin = int(bndbox.find('ymin').text)\n",
    "                xmax = int(bndbox.find('xmax').text)\n",
    "                ymax = int(bndbox.find('ymax').text)\n",
    "            \n",
    "            # calculate new scale ratio\n",
    "            x_scale = self.TARGET_IMAGE_SIZE / og_img_width \n",
    "            y_scale = self.TARGET_IMAGE_SIZE / og_img_height\n",
    "            bounding_box_coordinates = (xmin * x_scale, ymin * y_scale, xmax * x_scale, ymax * y_scale) # resize bounding box to fit resized image\n",
    "\n",
    "            target = {\n",
    "                \"image\": torch.tensor(img, dtype=torch.float32),\n",
    "                \"bbox\": torch.tensor(bounding_box_coordinates, dtype=torch.float32),  # Replace with actual bounding box coordinates\n",
    "            }\n",
    "            \n",
    "            self.training_data.append([np.array(img), bounding_box_coordinates])\n",
    "            #self.training_data.append(target)\n",
    "\n",
    "        np.random.shuffle(self.training_data)\n",
    "\n",
    "training_dataset = LPR_Training_Dataset_Processed()\n",
    "training_dataset.create_training_data()"
   ]
  },
  {
   "cell_type": "code",
   "execution_count": 87,
   "metadata": {},
   "outputs": [],
   "source": [
    "# preview first few images so we can make sure our data was processed correctly\n",
    "for i in range(0, 3):\n",
    "    img = training_dataset.training_data[i][0]\n",
    "    x,y,x1,y1 = training_dataset.training_data[i][1]\n",
    "    cv2.rectangle(img, (int(x), int(y)), (int(x1), int(y1)), (255, 255, 255), 2)\n",
    "    cv2.imshow(f\"{i}\", img)\n",
    "cv2.waitKey(0)\n",
    "cv2.destroyAllWindows()"
   ]
  },
  {
   "cell_type": "markdown",
   "metadata": {},
   "source": [
    "## Model Definition"
   ]
  },
  {
   "cell_type": "code",
   "execution_count": 96,
   "metadata": {},
   "outputs": [],
   "source": [
    "import torch\n",
    "import torch.nn as nn\n",
    "import torch.nn.functional as F\n",
    "\n",
    "class LPR_Net(nn.Module):\n",
    "    def __init__(self):\n",
    "        super().__init__()\n",
    "        self.conv1 = nn.Conv2d(1, 32, 5)\n",
    "        self.conv2 = nn.Conv2d(32, 64, 5)\n",
    "        self.conv3 = nn.Conv2d(64, 128, 5)\n",
    "\n",
    "        x = torch.randn(224, 224).view(-1, 1, 224, 224)\n",
    "        self._to_linear = None\n",
    "        self.convs(x)\n",
    "\n",
    "        self.fc1 = nn.Linear(self._to_linear, 512)\n",
    "        self.fc2 = nn.Linear(512, 4)\n",
    "    \n",
    "    def convs(self, x):\n",
    "        x = F.max_pool2d(F.relu(self.conv1(x)), (2, 2))\n",
    "        x = F.max_pool2d(F.relu(self.conv2(x)), (2, 2))\n",
    "        x = F.max_pool2d(F.relu(self.conv3(x)), (2, 2))\n",
    "\n",
    "        if self._to_linear is None: # used to flatten it since pytorch doesn't have tensorflow's flatten function\n",
    "            self._to_linear = x[0].shape[0] * x[0].shape[1] * x[0].shape[2]\n",
    "\n",
    "        return x\n",
    "    \n",
    "    def forward(self, x):\n",
    "        x = self.convs(x) # pass through all convulutional layers\n",
    "        x = x.view(-1, self._to_linear) # flatten it\n",
    "        x = F.relu(self.fc1(x)) # pass through fully connected (dense) layer\n",
    "        x = self.fc2(x)\n",
    "        # return F.softmax(x, dim = 1) # renable this when we move to the gpu\n",
    "        return x\n",
    "    \n",
    "net = LPR_Net()"
   ]
  },
  {
   "cell_type": "markdown",
   "metadata": {},
   "source": [
    "## Get data and split between test and training data"
   ]
  },
  {
   "cell_type": "code",
   "execution_count": 114,
   "metadata": {},
   "outputs": [
    {
     "name": "stdout",
     "output_type": "stream",
     "text": [
      "347\n",
      "86\n"
     ]
    }
   ],
   "source": [
    "import torch.optim as optim\n",
    "\n",
    "optimizer = optim.Adam(net.parameters(), lr=0.001)\n",
    "loss_function = nn.MSELoss()\n",
    "\n",
    "X = torch.Tensor([i[0] for i in training_dataset.training_data]).view(-1, 224, 224) # image values\n",
    "X = X / 255.0\n",
    "y = torch.Tensor([i[1] for i in training_dataset.training_data]) # bounding box values\n",
    "\n",
    "VAL_PCT = 0.2 # percent of data we want to use for testing vs training\n",
    "val_size = int(len(X) * VAL_PCT)\n",
    "\n",
    "# create test and training splits\n",
    "train_X = X[:-val_size]\n",
    "train_y = y[:-val_size]\n",
    "\n",
    "test_X = X[-val_size:]\n",
    "test_y = y[-val_size:]\n",
    "\n",
    "print(len(train_X))\n",
    "print(len(test_X))"
   ]
  },
  {
   "cell_type": "markdown",
   "metadata": {},
   "source": [
    "## Train!"
   ]
  },
  {
   "cell_type": "code",
   "execution_count": 115,
   "metadata": {},
   "outputs": [
    {
     "name": "stderr",
     "output_type": "stream",
     "text": [
      " 50%|█████     | 1/2 [00:09<00:09,  9.99s/it]"
     ]
    }
   ],
   "source": [
    "BATCH_SIZE = 200 # reduce if memory errors\n",
    "EPOCHS = 1\n",
    "\n",
    "for epoch in range(EPOCHS):\n",
    "    for i in tqdm(range(0, len(train_X), BATCH_SIZE)):\n",
    "        batch_X = train_X[i:i + BATCH_SIZE].view(-1, 1, 224, 224)\n",
    "        batch_y = train_y[i:i + BATCH_SIZE]\n",
    "        \n",
    "        optimizer.zero_grad()\n",
    "        outputs = net(batch_X)\n",
    "\n",
    "        loss = loss_function(outputs, batch_y)\n",
    "        loss.backward()\n",
    "        optimizer.step()\n",
    "\n",
    "print(loss)\n"
   ]
  },
  {
   "cell_type": "code",
   "execution_count": 113,
   "metadata": {},
   "outputs": [
    {
     "name": "stderr",
     "output_type": "stream",
     "text": [
      "  5%|▍         | 4/86 [00:00<00:02, 34.58it/s]"
     ]
    },
    {
     "name": "stdout",
     "output_type": "stream",
     "text": [
      "tensor(16073) tensor([ 97.4372, 128.0085, 141.3612, 152.1040])\n",
      "tensor(1908) tensor([ 93.9569, 121.5841, 133.6109, 143.9028])\n",
      "tensor(16) tensor([117.3144, 155.3068, 172.8628, 184.4475])\n",
      "tensor(18801) tensor([ 92.3751, 121.8094, 133.6267, 144.7334])\n",
      "tensor(32833) tensor([ 97.8014, 128.7879, 139.5008, 152.5691])\n",
      "tensor(25361) tensor([ 88.3401, 117.8878, 127.7101, 140.4465])\n",
      "tensor(4138) tensor([ 94.9349, 123.3897, 135.2036, 147.4751])\n",
      "tensor(317) tensor([ 95.3929, 124.0430, 139.6458, 148.0752])\n"
     ]
    },
    {
     "name": "stderr",
     "output_type": "stream",
     "text": [
      " 14%|█▍        | 12/86 [00:00<00:02, 34.85it/s]"
     ]
    },
    {
     "name": "stdout",
     "output_type": "stream",
     "text": [
      "tensor(17797) tensor([ 93.1445, 125.5879, 139.1537, 150.6273])\n",
      "tensor(9893) tensor([ 93.0103, 121.2170, 134.5473, 144.0713])\n",
      "tensor(5050) tensor([103.0174, 136.3095, 149.0741, 162.7751])\n",
      "tensor(253) tensor([108.1301, 143.5415, 153.0275, 169.9879])\n",
      "tensor(25577) tensor([ 95.8196, 126.7485, 139.0870, 150.3461])\n",
      "tensor(60) tensor([ 97.2283, 127.8736, 141.5655, 152.1610])\n",
      "tensor(29638) tensor([ 95.3721, 128.0282, 141.6579, 153.8211])\n",
      "tensor(36833) tensor([ 85.1366, 115.7788, 123.9361, 138.8779])\n"
     ]
    },
    {
     "name": "stderr",
     "output_type": "stream",
     "text": [
      " 23%|██▎       | 20/86 [00:00<00:01, 34.84it/s]"
     ]
    },
    {
     "name": "stdout",
     "output_type": "stream",
     "text": [
      "tensor(1) tensor([ 98.1077, 126.6055, 140.1721, 150.0782])\n",
      "tensor(15339) tensor([101.1724, 133.2067, 146.9442, 159.7884])\n",
      "tensor(18801) tensor([ 92.3751, 121.8094, 133.6267, 144.7334])\n",
      "tensor(22230) tensor([ 95.8672, 126.2827, 136.7087, 150.0280])\n",
      "tensor(18321) tensor([ 96.6528, 129.4136, 142.5584, 154.3954])\n",
      "tensor(0) tensor([ 95.5313, 123.0348, 137.6064, 146.1949])\n",
      "tensor(0) tensor([ 88.1194, 115.2480, 124.8194, 136.4398])\n",
      "tensor(37513) tensor([ 93.0694, 126.3182, 136.1596, 150.5154])\n"
     ]
    },
    {
     "name": "stderr",
     "output_type": "stream",
     "text": [
      " 33%|███▎      | 28/86 [00:00<00:01, 35.90it/s]"
     ]
    },
    {
     "name": "stdout",
     "output_type": "stream",
     "text": [
      "tensor(2759) tensor([105.5791, 137.2527, 151.2492, 162.4810])\n",
      "tensor(15053) tensor([ 98.2353, 130.8247, 142.2071, 156.3328])\n",
      "tensor(16047) tensor([102.3482, 138.6501, 151.9633, 166.5702])\n",
      "tensor(4071) tensor([ 86.9932, 112.5907, 125.7916, 134.1803])\n",
      "tensor(20673) tensor([ 98.0258, 129.6974, 144.6016, 155.5723])\n",
      "tensor(1197) tensor([109.2874, 144.4073, 161.8487, 174.7138])\n",
      "tensor(25680) tensor([ 98.0312, 128.7420, 142.8754, 153.9659])\n"
     ]
    },
    {
     "name": "stderr",
     "output_type": "stream",
     "text": [
      " 42%|████▏     | 36/86 [00:01<00:01, 36.45it/s]"
     ]
    },
    {
     "name": "stdout",
     "output_type": "stream",
     "text": [
      "tensor(9338) tensor([ 91.4903, 116.7402, 130.1763, 139.2974])\n",
      "tensor(6293) tensor([ 97.6923, 126.0343, 138.9505, 149.2017])\n",
      "tensor(6) tensor([111.0835, 145.0697, 161.5834, 172.4886])\n",
      "tensor(9731) tensor([ 93.4820, 122.7396, 135.4609, 145.8431])\n",
      "tensor(25386) tensor([ 98.3274, 133.7108, 144.0914, 159.7731])\n",
      "tensor(615) tensor([100.3376, 129.5964, 145.1265, 154.4207])\n",
      "tensor(6047) tensor([104.8359, 140.1143, 151.6188, 168.0882])\n",
      "tensor(15671) tensor([ 92.4558, 121.4620, 135.7469, 144.8132])\n"
     ]
    },
    {
     "name": "stderr",
     "output_type": "stream",
     "text": [
      " 51%|█████     | 44/86 [00:01<00:01, 36.67it/s]"
     ]
    },
    {
     "name": "stdout",
     "output_type": "stream",
     "text": [
      "tensor(4016) tensor([ 92.4730, 126.2923, 139.1069, 152.1047])\n",
      "tensor(16047) tensor([102.3482, 138.6501, 151.9633, 166.5702])\n",
      "tensor(10774) tensor([109.5835, 142.1909, 158.7019, 169.0581])\n",
      "tensor(213) tensor([105.7385, 140.2079, 157.0114, 168.2103])\n",
      "tensor(15003) tensor([ 96.5297, 131.0375, 143.7894, 157.2905])\n",
      "tensor(40201) tensor([ 85.3851, 114.8348, 124.2730, 136.9311])\n",
      "tensor(1111) tensor([ 93.1914, 124.5922, 134.7867, 147.7395])\n",
      "tensor(7068) tensor([ 89.2671, 117.1594, 131.5582, 140.6028])\n"
     ]
    },
    {
     "name": "stderr",
     "output_type": "stream",
     "text": [
      " 60%|██████    | 52/86 [00:01<00:00, 36.09it/s]"
     ]
    },
    {
     "name": "stdout",
     "output_type": "stream",
     "text": [
      "tensor(813) tensor([ 98.2098, 127.9973, 140.6530, 152.0562])\n",
      "tensor(30102) tensor([104.7642, 139.0849, 149.0810, 164.5651])\n",
      "tensor(34003) tensor([ 99.9776, 132.8760, 144.5134, 158.6061])\n",
      "tensor(25680) tensor([ 98.0312, 128.7420, 142.8754, 153.9659])\n",
      "tensor(4) tensor([102.4706, 131.6171, 145.1293, 155.6521])\n",
      "tensor(0) tensor([106.2045, 138.3496, 149.8191, 163.0529])\n",
      "tensor(4819) tensor([ 90.1949, 115.1445, 130.8206, 138.1930])\n",
      "tensor(4138) tensor([ 94.9349, 123.3897, 135.2036, 147.4751])\n"
     ]
    },
    {
     "name": "stderr",
     "output_type": "stream",
     "text": [
      " 70%|██████▉   | 60/86 [00:01<00:00, 36.22it/s]"
     ]
    },
    {
     "name": "stdout",
     "output_type": "stream",
     "text": [
      "tensor(4) tensor([102.4706, 131.6171, 145.1293, 155.6521])\n",
      "tensor(169) tensor([ 94.9581, 124.6580, 137.3971, 147.9001])\n",
      "tensor(6293) tensor([ 97.6923, 126.0343, 138.9505, 149.2017])\n",
      "tensor(23499) tensor([107.2231, 141.6014, 152.3703, 166.7341])\n",
      "tensor(12297) tensor([ 94.9508, 125.1794, 140.0413, 149.8656])\n",
      "tensor(18475) tensor([ 91.5642, 123.5812, 135.8500, 148.5611])\n",
      "tensor(1873) tensor([ 97.9181, 128.8577, 142.7215, 153.8973])\n",
      "tensor(10158) tensor([ 99.1023, 128.8680, 142.1537, 152.9218])\n"
     ]
    },
    {
     "name": "stderr",
     "output_type": "stream",
     "text": [
      " 79%|███████▉  | 68/86 [00:01<00:00, 36.83it/s]"
     ]
    },
    {
     "name": "stdout",
     "output_type": "stream",
     "text": [
      "tensor(6051) tensor([100.0227, 130.8968, 141.6629, 154.4566])\n",
      "tensor(4491) tensor([106.1635, 134.8085, 153.1910, 161.4216])\n",
      "tensor(0) tensor([ 94.4917, 120.6218, 133.6364, 142.3935])\n",
      "tensor(183) tensor([112.1805, 144.8567, 161.7956, 172.1727])\n",
      "tensor(34205) tensor([102.6337, 136.7654, 149.4545, 163.2578])\n",
      "tensor(9463) tensor([ 88.7242, 118.2353, 128.5640, 140.4069])\n",
      "tensor(828) tensor([ 93.3626, 122.7237, 138.4367, 147.7518])\n",
      "tensor(10855) tensor([ 95.5941, 126.6404, 141.8030, 151.6874])\n",
      "tensor(6665) tensor([ 95.3010, 126.2136, 137.3140, 149.9783])\n"
     ]
    },
    {
     "name": "stderr",
     "output_type": "stream",
     "text": [
      " 93%|█████████▎| 80/86 [00:02<00:00, 37.68it/s]"
     ]
    },
    {
     "name": "stdout",
     "output_type": "stream",
     "text": [
      "tensor(28748) tensor([ 98.3017, 130.5105, 144.3410, 156.3541])\n",
      "tensor(0) tensor([107.9059, 140.3332, 156.3988, 167.0840])\n",
      "tensor(196) tensor([ 96.3481, 125.0222, 140.1848, 148.7571])\n",
      "tensor(133) tensor([ 98.5281, 127.6897, 142.9275, 152.2394])\n",
      "tensor(1427) tensor([106.2618, 140.9383, 152.3415, 167.1160])\n",
      "tensor(7310) tensor([ 94.2236, 126.1532, 139.2620, 152.4997])\n",
      "tensor(32672) tensor([ 96.5761, 128.0743, 136.8374, 151.1428])\n",
      "tensor(6594) tensor([103.5564, 136.0187, 151.4154, 162.8703])\n"
     ]
    },
    {
     "name": "stderr",
     "output_type": "stream",
     "text": [
      "100%|██████████| 86/86 [00:02<00:00, 36.52it/s]"
     ]
    },
    {
     "name": "stdout",
     "output_type": "stream",
     "text": [
      "tensor(12297) tensor([ 94.9508, 125.1794, 140.0413, 149.8656])\n",
      "tensor(183) tensor([112.1805, 144.8567, 161.7956, 172.1727])\n",
      "tensor(0) tensor([ 97.7727, 125.5524, 139.4683, 148.1193])\n",
      "tensor(17805) tensor([100.1403, 128.1829, 142.8204, 152.5555])\n",
      "tensor(150) tensor([ 98.4621, 128.7306, 142.6078, 153.3545])\n",
      "tensor(6372) tensor([ 99.0179, 131.3127, 142.2078, 156.9124])\n",
      "Accuracy: 0.0 %\n"
     ]
    },
    {
     "name": "stderr",
     "output_type": "stream",
     "text": [
      "\n"
     ]
    }
   ],
   "source": [
    "correct = 0\n",
    "total = 0\n",
    "\n",
    "with torch.no_grad():\n",
    "    for i in tqdm(range(len(test_X))):\n",
    "        real_bbox = torch.argmax(test_y[i])\n",
    "        net_out = net(test_X[i].view(-1, 1, 224, 224))[0]\n",
    "        predicted_bbox = torch.argmax(net_out)\n",
    "        if predicted_bbox == real_bbox:\n",
    "            correct+= 1\n",
    "        total += 1\n",
    "        #print(real_bbox, net_out)\n",
    "\n",
    "print(\"Accuracy:\", round((correct / total) * 100, 3), \"%\")"
   ]
  }
 ],
 "metadata": {
  "kernelspec": {
   "display_name": ".venv",
   "language": "python",
   "name": "python3"
  },
  "language_info": {
   "codemirror_mode": {
    "name": "ipython",
    "version": 3
   },
   "file_extension": ".py",
   "mimetype": "text/x-python",
   "name": "python",
   "nbconvert_exporter": "python",
   "pygments_lexer": "ipython3",
   "version": "3.11.5"
  }
 },
 "nbformat": 4,
 "nbformat_minor": 2
}
