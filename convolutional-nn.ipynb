{
 "cells": [
  {
   "cell_type": "markdown",
   "metadata": {},
   "source": [
    "# 1. Data Preprocessing Code"
   ]
  },
  {
   "cell_type": "code",
   "execution_count": 57,
   "metadata": {},
   "outputs": [
    {
     "name": "stderr",
     "output_type": "stream",
     "text": [
      "C:\\Users\\erenc\\AppData\\Local\\Temp\\ipykernel_31552\\1514409062.py:52: UserWarning: To copy construct from a tensor, it is recommended to use sourceTensor.clone().detach() or sourceTensor.clone().detach().requires_grad_(True), rather than torch.tensor(sourceTensor).\n",
      "  \"image\": torch.tensor(image, dtype=torch.float32),\n"
     ]
    }
   ],
   "source": [
    "import os\n",
    "import cv2\n",
    "import torch\n",
    "from torch.utils.data import Dataset\n",
    "import xml.etree.ElementTree as ET\n",
    "from torchvision import transforms\n",
    "import matplotlib.pyplot as plt\n",
    "import numpy as np\n",
    "\n",
    "class CustomALPRDataset(Dataset):\n",
    "    def __init__(self, image_dir, annotation_dir, transform=None):\n",
    "        self.image_dir = image_dir\n",
    "        self.annotation_dir = annotation_dir\n",
    "        self.transform = transform\n",
    "        self.image_list = os.listdir(image_dir)\n",
    "\n",
    "    def __len__(self):\n",
    "        return len(self.image_list)\n",
    "\n",
    "    def __getitem__(self, idx):\n",
    "        image_name = self.image_list[idx]\n",
    "        image_path = os.path.join(self.image_dir, image_name)\n",
    "        annotation_path = os.path.join(self.annotation_dir, image_name.replace('.png', '.xml'))\n",
    "\n",
    "        # Load the image using OpenCV\n",
    "        image = cv2.imread(image_path, cv2.IMREAD_GRAYSCALE)\n",
    "        image = cv2.cvtColor(image, cv2.COLOR_BGR2RGB)  # Convert to RGB format\n",
    "        og_height, og_width, og_channels = image.shape # save values so we can recalculate bounding boxes later\n",
    "\n",
    "        # modify\n",
    "        if self.transform:\n",
    "            image = self.transform(image)\n",
    "\n",
    "        # Parse the XML annotation file to extract bounding box coordinates\n",
    "        # Load the XML annotation file\n",
    "        root = ET.parse(annotation_path).getroot()\n",
    "        \n",
    "        # Iterate through the XML and extract bounding box coordinates\n",
    "        for obj in root.findall('.//object'):\n",
    "            bndbox = obj.find('bndbox')\n",
    "            xmin = int(bndbox.find('xmin').text)\n",
    "            ymin = int(bndbox.find('ymin').text)\n",
    "            xmax = int(bndbox.find('xmax').text)\n",
    "            ymax = int(bndbox.find('ymax').text)\n",
    "        \n",
    "        x_scale = 224 / og_width\n",
    "        y_scale = 224 / og_height\n",
    "        bounding_box_coordinates = (xmin * x_scale, ymin * y_scale, xmax * x_scale, ymax * y_scale)\n",
    "\n",
    "        # Create a dictionary containing image and target information\n",
    "        target = {\n",
    "            \"image\": torch.tensor(image, dtype=torch.float32),\n",
    "            \"bbox\": torch.tensor(bounding_box_coordinates, dtype=torch.float32),  # Replace with actual bounding box coordinates\n",
    "          #  \"labels\": torch.tensor([1], dtype=torch.int64),  # Assuming there is only one class (license plate)\n",
    "        }\n",
    "\n",
    "        # view changed image\n",
    "        to_pil = transforms.ToPILImage()\n",
    "        image_np = np.array(to_pil(image))\n",
    "\n",
    "        if image_np.dtype != np.uint8:\n",
    "            image_np = image_np.astype(np.uint8)\n",
    "\n",
    "        x,y,x1,y1 = bounding_box_coordinates\n",
    "        cv2.rectangle(image_np, (int(x), int(y)), (int(x1), int(y1)), (255, 255, 255), 2)\n",
    "        cv2.imshow(\"image\", image_np)\n",
    "        cv2.waitKey(0)\n",
    "        cv2.destroyAllWindows()\n",
    "\n",
    "        return target\n",
    "\n",
    "# Define the transform for image preprocessing (resize, normalization, etc.)\n",
    "transform = transforms.Compose([\n",
    "    transforms.ToPILImage(),  # Convert to PIL Image\n",
    "    transforms.Resize((224, 224)),  # Resize the image to the desired size\n",
    "    transforms.ToTensor(),  # Convert to PyTorch tensor\n",
    "   # transforms.Normalize(mean=[0.485, 0.456, 0.406], std=[0.229, 0.224, 0.225]),  # Normalize\n",
    "])\n",
    "\n",
    "# Create an instance of the custom dataset\n",
    "lpr_training_dataset = CustomALPRDataset(image_dir='data/kaggle-dataset-433/train/images', annotation_dir='data/kaggle-dataset-433/train/annotations', transform=transform)\n",
    "\n",
    "for i in range(10):\n",
    "    image = lpr_training_dataset[i].get(\"image\")"
   ]
  },
  {
   "cell_type": "markdown",
   "metadata": {},
   "source": [
    "Create a training & test dataset\n",
    "\n",
    "Training is the dataset we just build, testing set will be Declan's photos"
   ]
  },
  {
   "cell_type": "code",
   "execution_count": null,
   "metadata": {},
   "outputs": [],
   "source": [
    "# batch size = how many we want to pass into our model at a time, generally use 8 - 64 - the larger, the quicker we can train, but not too big or accuracy might be low\n",
    "# we have to batch because data is so big we can't fit it all in at once\n",
    "train_set = torch.utils.data.DataLoader(lpr_training_dataset, batch_size=10, shuffle=True)\n",
    "#test_set = torch.utils.data.DataLoader(test_data, batch_size=10, shuffle=False)"
   ]
  },
  {
   "cell_type": "markdown",
   "metadata": {},
   "source": [
    "# 2. Model Definition"
   ]
  },
  {
   "cell_type": "code",
   "execution_count": null,
   "metadata": {},
   "outputs": [],
   "source": [
    "import torch.nn as nn\n",
    "import torch.nn.functional as F\n",
    "\n",
    "class Net(nn.Module):\n",
    "    def __init__(self):\n",
    "        super().__init__()\n",
    "\n",
    "        # Define layers"
   ]
  },
  {
   "cell_type": "markdown",
   "metadata": {},
   "source": [
    "# 3. Training"
   ]
  },
  {
   "cell_type": "markdown",
   "metadata": {},
   "source": [
    "# 4. Testing"
   ]
  },
  {
   "cell_type": "code",
   "execution_count": null,
   "metadata": {},
   "outputs": [],
   "source": []
  },
  {
   "cell_type": "markdown",
   "metadata": {},
   "source": [
    "# 5. Validating / Predictions"
   ]
  }
 ],
 "metadata": {
  "kernelspec": {
   "display_name": ".venv",
   "language": "python",
   "name": "python3"
  },
  "language_info": {
   "codemirror_mode": {
    "name": "ipython",
    "version": 3
   },
   "file_extension": ".py",
   "mimetype": "text/x-python",
   "name": "python",
   "nbconvert_exporter": "python",
   "pygments_lexer": "ipython3",
   "version": "3.11.5"
  }
 },
 "nbformat": 4,
 "nbformat_minor": 2
}
